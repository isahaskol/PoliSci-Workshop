{
 "cells": [
  {
   "cell_type": "code",
   "execution_count": 19,
   "id": "4640c2a0",
   "metadata": {},
   "outputs": [
    {
     "data": {
      "text/plain": [
       "True"
      ]
     },
     "execution_count": 19,
     "metadata": {},
     "output_type": "execute_result"
    }
   ],
   "source": [
    "r1 = 4<5\n",
    "\n",
    "r2 = not (9 > 1)\n",
    "\n",
    "r3 = 90 ==10\n",
    "\n",
    "r4 = 9>3\n",
    "\n",
    "\n",
    "\n",
    "#What is the output:\n",
    "\n",
    "r1 or r2 or r3 and r4"
   ]
  },
  {
   "cell_type": "code",
   "execution_count": 20,
   "id": "29d1def1",
   "metadata": {},
   "outputs": [
    {
     "data": {
      "text/plain": [
       "True"
      ]
     },
     "execution_count": 20,
     "metadata": {},
     "output_type": "execute_result"
    }
   ],
   "source": [
    "r1 = 4<5\n",
    "\n",
    "r2 = not (9 > 1)\n",
    "\n",
    "r3 = 90 ==10\n",
    "\n",
    "r4 = 9>3\n",
    "\n",
    "\n",
    "\n",
    "#What is the output:\n",
    "\n",
    "r1 and r2 or r3 or r4"
   ]
  },
  {
   "cell_type": "code",
   "execution_count": 21,
   "id": "765d5dfe",
   "metadata": {},
   "outputs": [
    {
     "data": {
      "text/plain": [
       "True"
      ]
     },
     "execution_count": 21,
     "metadata": {},
     "output_type": "execute_result"
    }
   ],
   "source": [
    "r1 = 4<5\n",
    "\n",
    "r2 = not (9 > 1)\n",
    "\n",
    "r3 = 90 ==10\n",
    "\n",
    "r4 = 9>3\n",
    "\n",
    "\n",
    "\n",
    "#What is the output:\n",
    "\n",
    "r1 or r2 and r3 or r4"
   ]
  },
  {
   "cell_type": "code",
   "execution_count": 3,
   "id": "8f4fe497",
   "metadata": {},
   "outputs": [
    {
     "name": "stdout",
     "output_type": "stream",
     "text": [
      "conflict\n",
      "peace\n",
      "economy\n",
      "politics\n",
      "president\n",
      "education\n",
      "climate\n",
      "Int. Organizations\n"
     ]
    }
   ],
   "source": [
    "# Write a for loop so that every item in the list is printed.\n",
    "lst=[\"conflict\", \"peace\", \"economy\", \"politics\", \"president\", \"education\", \"climate\", \"Int. Organizations\"]\n",
    "#Type your answer here.\n",
    "\n",
    "for i in lst:\n",
    "    print(i)"
   ]
  },
  {
   "cell_type": "code",
   "execution_count": 4,
   "id": "fa32008e",
   "metadata": {},
   "outputs": [
    {
     "name": "stdout",
     "output_type": "stream",
     "text": [
      "The new president is:  Daniel\n",
      "The new president is:  Jennifer\n",
      "The new president is:  John\n",
      "The new president is:  Megan\n",
      "The new president is:  Brody\n",
      "The new president is:  Vivian\n"
     ]
    }
   ],
   "source": [
    "# Write a for loop which print \"The new president is:  \" plus each name in the list. i.e.: \"The new president is: Daniel!\"\n",
    "#(do not forget \"!\":)\n",
    "\n",
    "lst=[\"Daniel\", \"Jennifer\",\"John\", \"Megan\", \"Brody\", \"Vivian\"]\n",
    "#Type your code here.\n",
    "for i in lst:\n",
    "    print(\"The new president is: \", i, \"!\")"
   ]
  },
  {
   "cell_type": "code",
   "execution_count": 5,
   "id": "67837a85",
   "metadata": {},
   "outputs": [
    {
     "name": "stdout",
     "output_type": "stream",
     "text": [
      "P\n",
      "o\n",
      "l\n",
      "i\n",
      "t\n",
      "i\n",
      "c\n",
      "a\n",
      "l\n",
      " \n",
      "S\n",
      "c\n",
      "i\n",
      "e\n",
      "n\n",
      "c\n",
      "e\n"
     ]
    }
   ],
   "source": [
    "# Write a for loop that iterates through a string and prints every letter.\n",
    "str=\"Political Science\"\n",
    "#Type your code here.\n",
    "\n",
    "for i in str:\n",
    "    print(i)"
   ]
  },
  {
   "cell_type": "code",
   "execution_count": 6,
   "id": "78149cfc",
   "metadata": {},
   "outputs": [
    {
     "name": "stdout",
     "output_type": "stream",
     "text": [
      "1\n",
      "2\n",
      "3\n",
      "4\n",
      "5\n",
      "6\n",
      "7\n",
      "8\n",
      "9\n",
      "10\n",
      "11\n",
      "12\n",
      "13\n",
      "14\n",
      "15\n",
      "16\n",
      "17\n"
     ]
    }
   ],
   "source": [
    "# Type a code inside the for loop so that counter variable named c is increased by one each time loop iterates. \n",
    "#Can you guess how many times it will add 1?.\n",
    "str=\"Political Science\"\n",
    "c=0\n",
    "for i in str:\n",
    "    c=c+1    \n",
    "    \n",
    "    print(c)"
   ]
  },
  {
   "cell_type": "code",
   "execution_count": 12,
   "id": "f283a531",
   "metadata": {},
   "outputs": [
    {
     "name": "stdout",
     "output_type": "stream",
     "text": [
      "5050\n"
     ]
    }
   ],
   "source": [
    "# Write a while loop that adds all the numbers up to 100 (inclusive).\n",
    "# The answer is 5050. show your work.\n",
    "\n",
    "counter=0\n",
    "total=0\n",
    "\n",
    "while counter < 100:\n",
    "    counter = counter +1\n",
    "    total = counter + total\n",
    "\n",
    "\n",
    "\n",
    "print(total)"
   ]
  },
  {
   "cell_type": "code",
   "execution_count": 1,
   "id": "602d3419",
   "metadata": {},
   "outputs": [
    {
     "name": "stdout",
     "output_type": "stream",
     "text": [
      "enter n value9\n",
      "sum of first 9 natural numbers is 45\n"
     ]
    }
   ],
   "source": [
    "n=int(input(\"enter n value\"))\n",
    "sum=0\n",
    "for x in range(1,n+1):\n",
    "    sum=sum+x\n",
    "print(\"sum of first\",n,\"natural numbers is\",sum)"
   ]
  },
  {
   "cell_type": "code",
   "execution_count": null,
   "id": "8e9adf4a",
   "metadata": {},
   "outputs": [],
   "source": [
    "user_name = input(\"Enter your name :\")\n",
    " \n",
    "print(\"Hello \", user_name)"
   ]
  },
  {
   "cell_type": "code",
   "execution_count": null,
   "id": "a2d5dcbb",
   "metadata": {},
   "outputs": [],
   "source": [
    "# Get two numbers from the user and print the sum of the numbers \"The sum of the two numbers you entered is: \"\n",
    "number1 = int(input(\"Enter number 1: \" ))\n",
    "number2 = int(input(\"Enter number 2: \"))\n",
    "sum = number1 + number2\n",
    "\n",
    "print(\"The sum of the two numbers you entered is:\", sum)\n"
   ]
  },
  {
   "cell_type": "code",
   "execution_count": 10,
   "id": "65a04b49",
   "metadata": {},
   "outputs": [
    {
     "name": "stdout",
     "output_type": "stream",
     "text": [
      "2\n",
      "4\n",
      "6\n",
      "8\n",
      "10\n",
      "12\n",
      "14\n",
      "16\n",
      "18\n",
      "20\n",
      "22\n",
      "24\n",
      "26\n",
      "28\n",
      "30\n",
      "32\n",
      "34\n",
      "36\n",
      "38\n",
      "40\n",
      "42\n",
      "44\n",
      "46\n",
      "48\n",
      "50\n",
      "52\n",
      "54\n",
      "56\n",
      "58\n",
      "60\n",
      "62\n",
      "64\n",
      "66\n",
      "68\n",
      "70\n",
      "72\n",
      "74\n",
      "76\n",
      "78\n",
      "80\n",
      "82\n",
      "84\n",
      "86\n",
      "88\n",
      "90\n",
      "92\n",
      "94\n",
      "96\n",
      "98\n"
     ]
    }
   ],
   "source": [
    "for num in range(2,100,2):\n",
    "    print(num)\n"
   ]
  },
  {
   "cell_type": "code",
   "execution_count": null,
   "id": "c19802bb",
   "metadata": {},
   "outputs": [],
   "source": [
    "for num in range(50,0,-1):\n",
    "    if num %2 != 0:\n",
    "        print(num)\n"
   ]
  },
  {
   "cell_type": "code",
   "execution_count": 11,
   "id": "65cd3f0a",
   "metadata": {},
   "outputs": [
    {
     "name": "stdout",
     "output_type": "stream",
     "text": [
      "1\n",
      "2\n",
      "3\n",
      "4\n",
      "5\n",
      "6\n",
      "7\n",
      "8\n",
      "9\n",
      "10\n",
      "11\n",
      "12\n",
      "13\n",
      "14\n",
      "15\n",
      "16\n",
      "17\n",
      "18\n",
      "19\n",
      "20\n",
      "21\n",
      "22\n",
      "23\n",
      "24\n",
      "25\n",
      "26\n",
      "27\n",
      "28\n",
      "29\n",
      "30\n",
      "31\n",
      "32\n",
      "33\n",
      "34\n",
      "35\n",
      "36\n",
      "37\n",
      "38\n",
      "39\n",
      "40\n",
      "41\n",
      "42\n",
      "43\n",
      "44\n",
      "45\n",
      "46\n",
      "47\n",
      "48\n",
      "49\n",
      "50\n",
      "51\n",
      "52\n",
      "53\n",
      "54\n",
      "55\n",
      "56\n",
      "57\n",
      "58\n",
      "59\n",
      "60\n",
      "61\n",
      "62\n",
      "63\n",
      "64\n",
      "65\n",
      "66\n",
      "67\n",
      "68\n",
      "69\n",
      "70\n",
      "71\n",
      "72\n",
      "73\n",
      "74\n",
      "75\n",
      "76\n",
      "77\n",
      "78\n",
      "79\n",
      "80\n",
      "81\n",
      "82\n",
      "83\n",
      "84\n",
      "85\n",
      "86\n",
      "87\n",
      "88\n",
      "89\n",
      "90\n",
      "91\n",
      "92\n",
      "93\n",
      "94\n",
      "95\n",
      "96\n",
      "97\n",
      "98\n",
      "99\n"
     ]
    }
   ],
   "source": [
    "#print prime numbers below 100\n",
    "for num in range (1,100):\n",
    "    if num /num ==1:\n",
    "        print(num)\n",
    "    "
   ]
  },
  {
   "cell_type": "code",
   "execution_count": null,
   "id": "51ca7553",
   "metadata": {},
   "outputs": [],
   "source": [
    "number1 =int(input(\"please enter number1: ))\n",
    "number2 = int(input(\"please enter number2: \"))\n",
    "if number1 > number2:\n",
    "    print (number1,+, \"is bigger than\",+,number2)\n",
    "else:\n",
    "    print(number2)"
   ]
  },
  {
   "cell_type": "code",
   "execution_count": null,
   "id": "df71a7e7",
   "metadata": {},
   "outputs": [],
   "source": [
    "number1 =int(input(\"please enter number1: ))\n",
    "number2 = int(input(\"please enter number2: \"))\n",
    "if number1 > number2:\n",
    "    print (number1,+, \"is bigger than\",+,number2)\n",
    "else:\n",
    "    print(number2)"
   ]
  },
  {
   "cell_type": "code",
   "execution_count": null,
   "id": "ff9ffc0b",
   "metadata": {},
   "outputs": [],
   "source": [
    "number1 = int(input(\"Enter number 1: \" ))\n",
    "number2 = int(input(\"Enter number 2: \"))\n",
    "\n",
    "if number1 > number2:\n",
    "    print(str(number1) + \" is bigger than \" + str(number2))\n",
    "elif number1<number2:\n",
    "    print(str(number2) + \" is bigger than \" + str(number1))  \n",
    "else:\n",
    "    print(str(number1)+ \" and \"+ str(number2) + \" are equal\")\n",
    "    \n",
    "    "
   ]
  },
  {
   "cell_type": "code",
   "execution_count": null,
   "id": "319cb763",
   "metadata": {},
   "outputs": [],
   "source": [
    "n1 = int(input(\"Enter first number :\"))\n",
    " \n",
    "n2 = int(input(\"Enter second number :\"))\n",
    " \n",
    "if n1 >= n2 :\n",
    "    print(\"n1 is the biggest \", n1)\n",
    " \n",
    "else:\n",
    "    print('n2 is biggest',n2)"
   ]
  },
  {
   "cell_type": "code",
   "execution_count": null,
   "id": "dafa2307",
   "metadata": {},
   "outputs": [],
   "source": [
    "number1 = int(input(\"Enter number 1: \" ))\n",
    "number2 = int(input(\"Enter number 2: \"))\n",
    "\n",
    "if number1 > number2:\n",
    "    print(number1, \" is bigger than \",number2)\n",
    "elif number1<number2:\n",
    "    print(number2, \" is bigger than \", number1)  \n",
    "else:\n",
    "    print(number1, \" and \", number2, \" are equal\")\n",
    "    \n",
    "    "
   ]
  },
  {
   "cell_type": "code",
   "execution_count": null,
   "id": "c4f236c2",
   "metadata": {},
   "outputs": [],
   "source": [
    "number1 = int(input(\"Enter number 1: \" ))\n",
    "number2 = int(input(\"Enter number 2: \"))\n",
    "number3 = int(input(\"Enter number 3: \"))\n",
    "print(max(number1,number2,number3))"
   ]
  },
  {
   "cell_type": "code",
   "execution_count": null,
   "id": "cb7412d0",
   "metadata": {},
   "outputs": [],
   "source": [
    "if number1 > number2 and number1 > number3:\n",
    "    print(number1, \" is the biggest\")\n",
    "elif number2>number1 and number2> number3:\n",
    "    print(number2 \" is the biggest\")  \n",
    "else:\n",
    "    print(number3, \" is the biggest\")"
   ]
  },
  {
   "cell_type": "code",
   "execution_count": null,
   "id": "a0898237",
   "metadata": {},
   "outputs": [],
   "source": [
    "number1 = int(input(\"Enter number 1: \" ))\n",
    "number2 = int(input(\"Enter number 2: \"))\n",
    "number3 = int(input(\"Enter number 3: \"))\n",
    "print(max(number1,number2,number3))"
   ]
  },
  {
   "cell_type": "code",
   "execution_count": 3,
   "id": "9a04977c",
   "metadata": {},
   "outputs": [
    {
     "name": "stdout",
     "output_type": "stream",
     "text": [
      "'is' is substring of  'this is a sample DaTaa'\n"
     ]
    }
   ],
   "source": [
    "str1 = \"this is a sample DaTaa\"\n",
    "if 'is' in str1:\n",
    " \n",
    "    print(\"'is' is substring of \", \"'\" + str1 + \"'\")"
   ]
  },
  {
   "cell_type": "code",
   "execution_count": 4,
   "id": "be828059",
   "metadata": {},
   "outputs": [
    {
     "name": "stdout",
     "output_type": "stream",
     "text": [
      "'was' is not a substring of  'this is a sample DaTaa'\n"
     ]
    }
   ],
   "source": [
    "if 'was' not in str1:\n",
    " \n",
    "    print(\"'was' is not a substring of \", \"'\" + str1 + \"'\")"
   ]
  },
  {
   "cell_type": "code",
   "execution_count": 8,
   "id": "a3b9c812",
   "metadata": {},
   "outputs": [
    {
     "name": "stdout",
     "output_type": "stream",
     "text": [
      "this is a sample dataa\n"
     ]
    }
   ],
   "source": [
    "print(str1.lower())"
   ]
  },
  {
   "cell_type": "code",
   "execution_count": 9,
   "id": "d5ef4c36",
   "metadata": {},
   "outputs": [
    {
     "name": "stdout",
     "output_type": "stream",
     "text": [
      "This Is A Sample Dataa\n"
     ]
    }
   ],
   "source": [
    "print(str1.title())"
   ]
  },
  {
   "cell_type": "code",
   "execution_count": 11,
   "id": "95d36b95",
   "metadata": {},
   "outputs": [
    {
     "name": "stdout",
     "output_type": "stream",
     "text": [
      "This is a sample dataa\n"
     ]
    }
   ],
   "source": [
    "print(str1.capitalize())"
   ]
  },
  {
   "cell_type": "code",
   "execution_count": 12,
   "id": "48cbfd03",
   "metadata": {},
   "outputs": [
    {
     "name": "stdout",
     "output_type": "stream",
     "text": [
      "THIS IS A SAMPLE DATAA\n"
     ]
    }
   ],
   "source": [
    "print(str1.upper())"
   ]
  },
  {
   "cell_type": "code",
   "execution_count": 14,
   "id": "c1dbbcb2",
   "metadata": {},
   "outputs": [
    {
     "name": "stdout",
     "output_type": "stream",
     "text": [
      "this is a sample Data\n"
     ]
    }
   ],
   "source": [
    "str2 = str1.replace(\"DaTaa\", \"Data\")\n",
    "print(str2)"
   ]
  },
  {
   "cell_type": "code",
   "execution_count": 15,
   "id": "75e4996a",
   "metadata": {},
   "outputs": [
    {
     "name": "stdout",
     "output_type": "stream",
     "text": [
      "this is a sample DaTa\n"
     ]
    }
   ],
   "source": [
    "\n",
    "new_str = str1[:-1]\n",
    " \n",
    "print(new_str)"
   ]
  },
  {
   "cell_type": "code",
   "execution_count": 16,
   "id": "c5992e2e",
   "metadata": {},
   "outputs": [
    {
     "name": "stdout",
     "output_type": "stream",
     "text": [
      "date :10 month:Jan year:2020\n"
     ]
    }
   ],
   "source": [
    "date_str = '10-Jan-2020'\n",
    " \n",
    "d,m,y = date_str.split('-')\n",
    " \n",
    "print(\"date :{0} month:{1} year:{2}\".format(d,m,y))"
   ]
  },
  {
   "cell_type": "code",
   "execution_count": 20,
   "id": "e1da098a",
   "metadata": {},
   "outputs": [
    {
     "name": "stdout",
     "output_type": "stream",
     "text": [
      "()\n"
     ]
    }
   ],
   "source": [
    "arr = \"10,20,30,40,50,60,70\", #get “50,60”\n",
    "print(arr[4:5])"
   ]
  },
  {
   "cell_type": "code",
   "execution_count": null,
   "id": "28ca07a8",
   "metadata": {},
   "outputs": [],
   "source": []
  }
 ],
 "metadata": {
  "kernelspec": {
   "display_name": "Python 3",
   "language": "python",
   "name": "python3"
  },
  "language_info": {
   "codemirror_mode": {
    "name": "ipython",
    "version": 3
   },
   "file_extension": ".py",
   "mimetype": "text/x-python",
   "name": "python",
   "nbconvert_exporter": "python",
   "pygments_lexer": "ipython3",
   "version": "3.8.8"
  }
 },
 "nbformat": 4,
 "nbformat_minor": 5
}
